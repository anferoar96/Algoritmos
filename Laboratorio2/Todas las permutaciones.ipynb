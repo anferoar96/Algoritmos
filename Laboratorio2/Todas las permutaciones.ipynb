{
 "cells": [
  {
   "cell_type": "markdown",
   "metadata": {},
   "source": [
    "# Máxima cantidad de permutaciones"
   ]
  },
  {
   "cell_type": "markdown",
   "metadata": {},
   "source": [
    "Para evaluar la cantidad máxima de permutaciones que puede evaluar itertools, se creo un ciclo infinito y dio como resultado que solo se puede generar hasta 12 (Lastimosamente cuanda llega a la doceava se traba el computador y se pierden lo que llevaba). Como se muestra en el siguiente codigo:"
   ]
  },
  {
   "cell_type": "code",
   "execution_count": 1,
   "metadata": {
    "collapsed": true
   },
   "outputs": [],
   "source": [
    "import itertools\n",
    "\n",
    "def bubbleSort(lista):\n",
    "    for i in range(len(lista)):\n",
    "        for j in range(0, len(lista)-i-1):\n",
    "            if lista[j] > lista[j+1] :\n",
    "                temp = lista[j]\n",
    "                lista[j] = lista[j+1]\n",
    "                lista[j+1] = temp\n",
    "                          \n",
    "cont = 0\n",
    "while True:\n",
    "    try:\n",
    "        list(itertools.permutations([x for x in range(cont)]))\n",
    "        print(cont)\n",
    "        cont += 1\n",
    "    except:\n",
    "        print()\n",
    "        print(\"El ultimo contador es: %d\"%cont)\n",
    "        break\n"
   ]
  }
 ],
 "metadata": {
  "kernelspec": {
   "display_name": "Python 3",
   "language": "python",
   "name": "python3"
  },
  "language_info": {
   "codemirror_mode": {
    "name": "ipython",
    "version": 3
   },
   "file_extension": ".py",
   "mimetype": "text/x-python",
   "name": "python",
   "nbconvert_exporter": "python",
   "pygments_lexer": "ipython3",
   "version": "3.6.3"
  }
 },
 "nbformat": 4,
 "nbformat_minor": 2
}
