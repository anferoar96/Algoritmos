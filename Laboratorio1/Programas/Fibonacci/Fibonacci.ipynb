{
 "cells": [
  {
   "cell_type": "markdown",
   "metadata": {},
   "source": [
    "# Termino Enesimo Suceción de Fibonacci\n",
    "Presentado por: Andrés Fernando Román Arévalo"
   ]
  },
  {
   "cell_type": "markdown",
   "metadata": {},
   "source": [
    "__Forma Recursiva:__  \n",
    "El siguiente codigo  muestra como se calcula a partir de una función el termino enesimo de la sucesión de Fibonacci a partir de llamadas sucesivas a asi misma. De ahi a que sea conocida como la Forma Recursiva."
   ]
  },
  {
   "cell_type": "code",
   "execution_count": 46,
   "metadata": {},
   "outputs": [
    {
     "name": "stdout",
     "output_type": "stream",
     "text": [
      "20\n",
      "6765\n"
     ]
    }
   ],
   "source": [
    "def fibonacciR(n):\n",
    "    if n == 0: \n",
    "        return 0\n",
    "    elif n == 1: \n",
    "        return 1\n",
    "    else: \n",
    "        return fibonacciR(n-1)+fibonacciR(n-2)\n",
    "a = int(input())\n",
    "print(fibonacciR(a))\n",
    "   "
   ]
  },
  {
   "cell_type": "markdown",
   "metadata": {},
   "source": [
    "__Forma Iterativa:__  \n",
    "Es cuando se encuentra el termino enesimo o se soluciona algun problema algoritmico  por medio de la ejecución de ciclos. "
   ]
  },
  {
   "cell_type": "code",
   "execution_count": 47,
   "metadata": {},
   "outputs": [
    {
     "name": "stdout",
     "output_type": "stream",
     "text": [
      "20\n",
      "6765\n"
     ]
    }
   ],
   "source": [
    "def fibonacciI(n):\n",
    "    if n == 0:\n",
    "        return 0\n",
    "    anterior = 0\n",
    "    actual = 1\n",
    "    for i in range(n-1):\n",
    "        siguiente = anterior + actual\n",
    "        anterior = actual\n",
    "        actual = siguiente\n",
    "    return actual\n",
    "\n",
    "a = int(input())\n",
    "print(fibonacciI(a))"
   ]
  },
  {
   "cell_type": "markdown",
   "metadata": {},
   "source": [
    "__Formula General:__  \n",
    "Un ultimo método que vamos a ver se lo agradecemos al matemático  François Édouard Anatole Lucas  quien descubrio una la formula a continuación para hallar cualquier termino de la sucesion de Fibonacci de una manera sencilla."
   ]
  },
  {
   "cell_type": "markdown",
   "metadata": {},
   "source": [
    "$$ F_{n}=\\frac{\\left(1+\\sqrt{5}\\right)^{n}-\\left(1-\\sqrt{5}\\right)^{n}}{2^{n}\\sqrt{5}} $$"
   ]
  },
  {
   "cell_type": "code",
   "execution_count": 48,
   "metadata": {},
   "outputs": [
    {
     "name": "stdout",
     "output_type": "stream",
     "text": [
      "20\n",
      "6765\n"
     ]
    }
   ],
   "source": [
    "from math import sqrt\n",
    "def fibonacciF(n):\n",
    "    return ((1+sqrt(5))**n-(1-sqrt(5))**n)/(2**n*sqrt(5))\n",
    "\n",
    "a = int(input())\n",
    "print(int(fibonacciF(a)))"
   ]
  },
  {
   "cell_type": "markdown",
   "metadata": {},
   "source": [
    "__Tiempo de Ejecución:__  \n",
    "Se realizo la gráfica de la forma Iterativa y de la formula ya que la forma recursiva demora demasiado tiempo.\n",
    "    "
   ]
  },
  {
   "cell_type": "code",
   "execution_count": 73,
   "metadata": {},
   "outputs": [
    {
     "data": {
      "text/plain": [
       "<matplotlib.legend.Legend at 0x7fa85eec8550>"
      ]
     },
     "execution_count": 73,
     "metadata": {},
     "output_type": "execute_result"
    },
    {
     "data": {
      "image/png": "[encoded data removed]",
      "text/plain": [
       "<matplotlib.figure.Figure at 0x7fa85efb7278>"
      ]
     },
     "metadata": {},
     "output_type": "display_data"
    }
   ],
   "source": [
    "import timeit\n",
    "import matplotlib.pyplot as plt\n",
    "lista = []\n",
    "lista3 = []\n",
    "for i in range(60):\n",
    "    start_time = timeit.default_timer()\n",
    "    fibonacciI(i)\n",
    "    elapsed = timeit.default_timer() - start_time\n",
    "    lista.append(elapsed)\n",
    "    start_time = timeit.default_timer()\n",
    "    fibonacciF(i)\n",
    "    elapsed = timeit.default_timer() - start_time\n",
    "    lista3.append(elapsed)\n",
    "    \n",
    "plt.title(\"Gráfica Fibonacci\")\n",
    "plt.xlabel(\"Numero\")\n",
    "plt.ylabel(\"Tiempo de ejecuacion\")\n",
    "plt.plot([x for x in range(60)],lista,label=\"Iterativo\")\n",
    "plt.plot([x for x in range(60)],lista3,label=\"Formula\")\n",
    "plt.legend()"
   ]
  }
 ],
 "metadata": {
  "kernelspec": {
   "display_name": "Python 3",
   "language": "python",
   "name": "python3"
  },
  "language_info": {
   "codemirror_mode": {
    "name": "ipython",
    "version": 3
   },
   "file_extension": ".py",
   "mimetype": "text/x-python",
   "name": "python",
   "nbconvert_exporter": "python",
   "pygments_lexer": "ipython3",
   "version": "3.6.3"
  }
 },
 "nbformat": 4,
 "nbformat_minor": 2
}
