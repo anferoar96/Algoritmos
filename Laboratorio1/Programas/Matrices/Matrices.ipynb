{
 "cells": [
  {
   "cell_type": "markdown",
   "metadata": {},
   "source": [
    "# Multiplicación de matrices:\n"
   ]
  },
  {
   "cell_type": "markdown",
   "metadata": {},
   "source": [
    "__Usando python__"
   ]
  },
  {
   "cell_type": "code",
   "execution_count": 29,
   "metadata": {},
   "outputs": [],
   "source": [
    "matriz1 = []\n",
    "matriz2 = []\n",
    "matriz3 = []\n",
    "lista = []\n",
    "total1 = []\n",
    "for j in range(2,101):\n",
    "    for k in range(10):\n",
    "        start_time = timeit.default_timer()\n",
    "        for i in range(a):\n",
    "            matriz1.append( [1] * a )\n",
    "        for i in range(a):\n",
    "            matriz2.append( [2] * a )\n",
    "        for i in range(a):\n",
    "            matriz3.append( [0] * a )\n",
    "        for i in range(a):\n",
    "            for j in range(a):\n",
    "                for k in range(a):\n",
    "                    matriz3[i][j] += matriz1[i][k] * matriz2[k][j]\n",
    "        elapsed = timeit.default_timer() - start_time\n",
    "        lista.append(elapsed)\n",
    "    promedio = sum(lista)/len(lista)\n",
    "    total1.append(promedio)\n",
    "\n"
   ]
  },
  {
   "cell_type": "markdown",
   "metadata": {},
   "source": [
    "__Usando python + numpy:__"
   ]
  },
  {
   "cell_type": "code",
   "execution_count": 22,
   "metadata": {},
   "outputs": [],
   "source": [
    "import numpy as np\n",
    "import matplotlib.pyplot as plt\n",
    "import timeit\n",
    "lista = []\n",
    "total = []\n",
    "for j in range(2,101):\n",
    "    for i in range(10):\n",
    "        start_time = timeit.default_timer()\n",
    "        mat = np.ones(shape=(j,j))\n",
    "        mat2 = np.ones(shape=(j,j))+np.ones(shape=(j,j))\n",
    "        np.dot(mat,mat2)\n",
    "        elapsed = timeit.default_timer() - start_time\n",
    "        lista.append(elapsed)\n",
    "    promedio = sum(lista)/len(lista)\n",
    "    total.append(promedio)"
   ]
  },
  {
   "cell_type": "markdown",
   "metadata": {},
   "source": [
    "__Graficando resultados__"
   ]
  },
  {
   "cell_type": "code",
   "execution_count": 32,
   "metadata": {},
   "outputs": [
    {
     "data": {
      "image/png": "[encoded data removed]",
      "text/plain": [
       "<matplotlib.figure.Figure at 0x7f76a16c09b0>"
      ]
     },
     "metadata": {},
     "output_type": "display_data"
    }
   ],
   "source": [
    "import matplotlib.pyplot as plt\n",
    "\n",
    "plt.title(\"Grafico multiplicación de matrices con Numpy\")\n",
    "plt.xlabel(\"Numero\")\n",
    "plt.ylabel(\"Tiempo de ejecuacion\")\n",
    "plt.plot([x for x in range(len(total))],total,label=\"Numpy\")\n",
    "plt.plot([x for x in range(len(total1))],total1,label=\"Python\")\n",
    "plt.legend()\n",
    "plt.show()\n"
   ]
  }
 ],
 "metadata": {
  "kernelspec": {
   "display_name": "Python 3",
   "language": "python",
   "name": "python3"
  },
  "language_info": {
   "codemirror_mode": {
    "name": "ipython",
    "version": 3
   },
   "file_extension": ".py",
   "mimetype": "text/x-python",
   "name": "python",
   "nbconvert_exporter": "python",
   "pygments_lexer": "ipython3",
   "version": "3.6.3"
  }
 },
 "nbformat": 4,
 "nbformat_minor": 2
}
