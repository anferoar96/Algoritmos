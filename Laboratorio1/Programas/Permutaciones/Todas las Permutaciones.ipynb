{
 "cells": [
  {
   "cell_type": "markdown",
   "metadata": {},
   "source": [
    "# Máxima cantidad de permutaciones"
   ]
  },
  {
   "cell_type": "markdown",
   "metadata": {},
   "source": [
    "Para evaluar la cantidad máxima de permutaciones que puede evaluar itertools, se creo un ciclo infinito y dio como resultado que solo se puede generar hasta 12 (Lastimosamente cuanda llega a la doceava se traba el computador y se pierden lo que llevaba). Como se muestra en el siguiente codigo:"
   ]
  },
  {
   "cell_type": "code",
   "execution_count": 1,
   "metadata": {},
   "outputs": [
    {
     "name": "stdout",
     "output_type": "stream",
     "text": [
      "0\n",
      "1\n",
      "2\n",
      "3\n",
      "4\n",
      "5\n",
      "6\n",
      "7\n",
      "8\n",
      "9\n",
      "10\n",
      "\n",
      "El ultimo contador es: 11\n"
     ]
    }
   ],
   "source": [
    "import itertools\n",
    "\n",
    "def isortSteps(a): #Ordena un vector\n",
    "    v = []\n",
    "    for i in range(len(a)):\n",
    "        v.append(a[i])\n",
    "\n",
    "    steps = 0\n",
    "    for i in range(1, len(v)):\n",
    "        x = v[i]\n",
    "        j = i - 1\n",
    "        while (j > -1) and (v[j] > x):\n",
    "            v[j + 1] = v[j]\n",
    "            j = j - 1\n",
    "            steps = steps + 3\n",
    "        steps = steps + 1\n",
    "        v[j + 1] = x\n",
    "        steps = steps + 4\n",
    "    steps = steps + 1\n",
    "    return steps\n",
    "cont = 0\n",
    "while True:\n",
    "    try:\n",
    "        list(itertools.permutations([x for x in range(cont)]))\n",
    "        print(cont)\n",
    "        cont += 1\n",
    "    except:\n",
    "        print()\n",
    "        print(\"El ultimo contador es: %d\"%cont)\n",
    "        break\n"
   ]
  }
 ],
 "metadata": {
  "kernelspec": {
   "display_name": "Python 3",
   "language": "python",
   "name": "python3"
  },
  "language_info": {
   "codemirror_mode": {
    "name": "ipython",
    "version": 3
   },
   "file_extension": ".py",
   "mimetype": "text/x-python",
   "name": "python",
   "nbconvert_exporter": "python",
   "pygments_lexer": "ipython3",
   "version": "3.6.3"
  }
 },
 "nbformat": 4,
 "nbformat_minor": 2
}
